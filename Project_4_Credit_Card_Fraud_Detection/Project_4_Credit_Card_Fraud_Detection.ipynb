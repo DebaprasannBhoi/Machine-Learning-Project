{
  "cells": [
    {
      "cell_type": "markdown",
      "metadata": {},
      "source": [
        "##Credit_Card_Fraud_Detection"
      ]
    },
    {
      "cell_type": "markdown",
      "metadata": {
        "id": "dAbAPap1P0WD"
      },
      "source": [
        "# *Importing* the Dependencies"
      ]
    },
    {
      "cell_type": "code",
      "execution_count": 3,
      "metadata": {
        "id": "AkiLK9U1P14v"
      },
      "outputs": [],
      "source": [
        "import numpy as np\n",
        "import pandas as pd\n",
        "from sklearn.model_selection import train_test_split\n",
        "from sklearn.linear_model import LogisticRegression\n",
        "from sklearn.metrics import accuracy_score"
      ]
    },
    {
      "cell_type": "code",
      "execution_count": 4,
      "metadata": {
        "id": "RBT4ZUr_RJdw"
      },
      "outputs": [],
      "source": [
        "# loading the dataset to a Pandas DataFrame\n",
        "credit_card_data = pd.read_csv('creditcard_2023.csv')"
      ]
    },
    {
      "cell_type": "code",
      "execution_count": 5,
      "metadata": {
        "colab": {
          "base_uri": "https://localhost:8080/",
          "height": 256
        },
        "id": "xBg2tF26Rihy",
        "outputId": "1ffe25a0-7407-4027-da14-e1b05fb9029b"
      },
      "outputs": [
        {
          "data": {
            "text/html": [
              "<div>\n",
              "<style scoped>\n",
              "    .dataframe tbody tr th:only-of-type {\n",
              "        vertical-align: middle;\n",
              "    }\n",
              "\n",
              "    .dataframe tbody tr th {\n",
              "        vertical-align: top;\n",
              "    }\n",
              "\n",
              "    .dataframe thead th {\n",
              "        text-align: right;\n",
              "    }\n",
              "</style>\n",
              "<table border=\"1\" class=\"dataframe\">\n",
              "  <thead>\n",
              "    <tr style=\"text-align: right;\">\n",
              "      <th></th>\n",
              "      <th>id</th>\n",
              "      <th>V1</th>\n",
              "      <th>V2</th>\n",
              "      <th>V3</th>\n",
              "      <th>V4</th>\n",
              "      <th>V5</th>\n",
              "      <th>V6</th>\n",
              "      <th>V7</th>\n",
              "      <th>V8</th>\n",
              "      <th>V9</th>\n",
              "      <th>...</th>\n",
              "      <th>V21</th>\n",
              "      <th>V22</th>\n",
              "      <th>V23</th>\n",
              "      <th>V24</th>\n",
              "      <th>V25</th>\n",
              "      <th>V26</th>\n",
              "      <th>V27</th>\n",
              "      <th>V28</th>\n",
              "      <th>Amount</th>\n",
              "      <th>Class</th>\n",
              "    </tr>\n",
              "  </thead>\n",
              "  <tbody>\n",
              "    <tr>\n",
              "      <th>0</th>\n",
              "      <td>0</td>\n",
              "      <td>-0.260648</td>\n",
              "      <td>-0.469648</td>\n",
              "      <td>2.496266</td>\n",
              "      <td>-0.083724</td>\n",
              "      <td>0.129681</td>\n",
              "      <td>0.732898</td>\n",
              "      <td>0.519014</td>\n",
              "      <td>-0.130006</td>\n",
              "      <td>0.727159</td>\n",
              "      <td>...</td>\n",
              "      <td>-0.110552</td>\n",
              "      <td>0.217606</td>\n",
              "      <td>-0.134794</td>\n",
              "      <td>0.165959</td>\n",
              "      <td>0.126280</td>\n",
              "      <td>-0.434824</td>\n",
              "      <td>-0.081230</td>\n",
              "      <td>-0.151045</td>\n",
              "      <td>17982.10</td>\n",
              "      <td>0</td>\n",
              "    </tr>\n",
              "    <tr>\n",
              "      <th>1</th>\n",
              "      <td>1</td>\n",
              "      <td>0.985100</td>\n",
              "      <td>-0.356045</td>\n",
              "      <td>0.558056</td>\n",
              "      <td>-0.429654</td>\n",
              "      <td>0.277140</td>\n",
              "      <td>0.428605</td>\n",
              "      <td>0.406466</td>\n",
              "      <td>-0.133118</td>\n",
              "      <td>0.347452</td>\n",
              "      <td>...</td>\n",
              "      <td>-0.194936</td>\n",
              "      <td>-0.605761</td>\n",
              "      <td>0.079469</td>\n",
              "      <td>-0.577395</td>\n",
              "      <td>0.190090</td>\n",
              "      <td>0.296503</td>\n",
              "      <td>-0.248052</td>\n",
              "      <td>-0.064512</td>\n",
              "      <td>6531.37</td>\n",
              "      <td>0</td>\n",
              "    </tr>\n",
              "    <tr>\n",
              "      <th>2</th>\n",
              "      <td>2</td>\n",
              "      <td>-0.260272</td>\n",
              "      <td>-0.949385</td>\n",
              "      <td>1.728538</td>\n",
              "      <td>-0.457986</td>\n",
              "      <td>0.074062</td>\n",
              "      <td>1.419481</td>\n",
              "      <td>0.743511</td>\n",
              "      <td>-0.095576</td>\n",
              "      <td>-0.261297</td>\n",
              "      <td>...</td>\n",
              "      <td>-0.005020</td>\n",
              "      <td>0.702906</td>\n",
              "      <td>0.945045</td>\n",
              "      <td>-1.154666</td>\n",
              "      <td>-0.605564</td>\n",
              "      <td>-0.312895</td>\n",
              "      <td>-0.300258</td>\n",
              "      <td>-0.244718</td>\n",
              "      <td>2513.54</td>\n",
              "      <td>0</td>\n",
              "    </tr>\n",
              "    <tr>\n",
              "      <th>3</th>\n",
              "      <td>3</td>\n",
              "      <td>-0.152152</td>\n",
              "      <td>-0.508959</td>\n",
              "      <td>1.746840</td>\n",
              "      <td>-1.090178</td>\n",
              "      <td>0.249486</td>\n",
              "      <td>1.143312</td>\n",
              "      <td>0.518269</td>\n",
              "      <td>-0.065130</td>\n",
              "      <td>-0.205698</td>\n",
              "      <td>...</td>\n",
              "      <td>-0.146927</td>\n",
              "      <td>-0.038212</td>\n",
              "      <td>-0.214048</td>\n",
              "      <td>-1.893131</td>\n",
              "      <td>1.003963</td>\n",
              "      <td>-0.515950</td>\n",
              "      <td>-0.165316</td>\n",
              "      <td>0.048424</td>\n",
              "      <td>5384.44</td>\n",
              "      <td>0</td>\n",
              "    </tr>\n",
              "    <tr>\n",
              "      <th>4</th>\n",
              "      <td>4</td>\n",
              "      <td>-0.206820</td>\n",
              "      <td>-0.165280</td>\n",
              "      <td>1.527053</td>\n",
              "      <td>-0.448293</td>\n",
              "      <td>0.106125</td>\n",
              "      <td>0.530549</td>\n",
              "      <td>0.658849</td>\n",
              "      <td>-0.212660</td>\n",
              "      <td>1.049921</td>\n",
              "      <td>...</td>\n",
              "      <td>-0.106984</td>\n",
              "      <td>0.729727</td>\n",
              "      <td>-0.161666</td>\n",
              "      <td>0.312561</td>\n",
              "      <td>-0.414116</td>\n",
              "      <td>1.071126</td>\n",
              "      <td>0.023712</td>\n",
              "      <td>0.419117</td>\n",
              "      <td>14278.97</td>\n",
              "      <td>0</td>\n",
              "    </tr>\n",
              "  </tbody>\n",
              "</table>\n",
              "<p>5 rows × 31 columns</p>\n",
              "</div>"
            ],
            "text/plain": [
              "   id        V1        V2        V3        V4        V5        V6        V7  \\\n",
              "0   0 -0.260648 -0.469648  2.496266 -0.083724  0.129681  0.732898  0.519014   \n",
              "1   1  0.985100 -0.356045  0.558056 -0.429654  0.277140  0.428605  0.406466   \n",
              "2   2 -0.260272 -0.949385  1.728538 -0.457986  0.074062  1.419481  0.743511   \n",
              "3   3 -0.152152 -0.508959  1.746840 -1.090178  0.249486  1.143312  0.518269   \n",
              "4   4 -0.206820 -0.165280  1.527053 -0.448293  0.106125  0.530549  0.658849   \n",
              "\n",
              "         V8        V9  ...       V21       V22       V23       V24       V25  \\\n",
              "0 -0.130006  0.727159  ... -0.110552  0.217606 -0.134794  0.165959  0.126280   \n",
              "1 -0.133118  0.347452  ... -0.194936 -0.605761  0.079469 -0.577395  0.190090   \n",
              "2 -0.095576 -0.261297  ... -0.005020  0.702906  0.945045 -1.154666 -0.605564   \n",
              "3 -0.065130 -0.205698  ... -0.146927 -0.038212 -0.214048 -1.893131  1.003963   \n",
              "4 -0.212660  1.049921  ... -0.106984  0.729727 -0.161666  0.312561 -0.414116   \n",
              "\n",
              "        V26       V27       V28    Amount  Class  \n",
              "0 -0.434824 -0.081230 -0.151045  17982.10      0  \n",
              "1  0.296503 -0.248052 -0.064512   6531.37      0  \n",
              "2 -0.312895 -0.300258 -0.244718   2513.54      0  \n",
              "3 -0.515950 -0.165316  0.048424   5384.44      0  \n",
              "4  1.071126  0.023712  0.419117  14278.97      0  \n",
              "\n",
              "[5 rows x 31 columns]"
            ]
          },
          "execution_count": 5,
          "metadata": {},
          "output_type": "execute_result"
        }
      ],
      "source": [
        "# first 5 rows of the dataset\n",
        "credit_card_data.head()"
      ]
    },
    {
      "cell_type": "code",
      "execution_count": 6,
      "metadata": {
        "colab": {
          "base_uri": "https://localhost:8080/",
          "height": 256
        },
        "id": "29J6tXRdRlx3",
        "outputId": "2f71a76c-2909-491c-fd86-303425fabd1d"
      },
      "outputs": [
        {
          "data": {
            "text/html": [
              "<div>\n",
              "<style scoped>\n",
              "    .dataframe tbody tr th:only-of-type {\n",
              "        vertical-align: middle;\n",
              "    }\n",
              "\n",
              "    .dataframe tbody tr th {\n",
              "        vertical-align: top;\n",
              "    }\n",
              "\n",
              "    .dataframe thead th {\n",
              "        text-align: right;\n",
              "    }\n",
              "</style>\n",
              "<table border=\"1\" class=\"dataframe\">\n",
              "  <thead>\n",
              "    <tr style=\"text-align: right;\">\n",
              "      <th></th>\n",
              "      <th>id</th>\n",
              "      <th>V1</th>\n",
              "      <th>V2</th>\n",
              "      <th>V3</th>\n",
              "      <th>V4</th>\n",
              "      <th>V5</th>\n",
              "      <th>V6</th>\n",
              "      <th>V7</th>\n",
              "      <th>V8</th>\n",
              "      <th>V9</th>\n",
              "      <th>...</th>\n",
              "      <th>V21</th>\n",
              "      <th>V22</th>\n",
              "      <th>V23</th>\n",
              "      <th>V24</th>\n",
              "      <th>V25</th>\n",
              "      <th>V26</th>\n",
              "      <th>V27</th>\n",
              "      <th>V28</th>\n",
              "      <th>Amount</th>\n",
              "      <th>Class</th>\n",
              "    </tr>\n",
              "  </thead>\n",
              "  <tbody>\n",
              "    <tr>\n",
              "      <th>568625</th>\n",
              "      <td>568625</td>\n",
              "      <td>-0.833437</td>\n",
              "      <td>0.061886</td>\n",
              "      <td>-0.899794</td>\n",
              "      <td>0.904227</td>\n",
              "      <td>-1.002401</td>\n",
              "      <td>0.481454</td>\n",
              "      <td>-0.370393</td>\n",
              "      <td>0.189694</td>\n",
              "      <td>-0.938153</td>\n",
              "      <td>...</td>\n",
              "      <td>0.167503</td>\n",
              "      <td>0.419731</td>\n",
              "      <td>1.288249</td>\n",
              "      <td>-0.900861</td>\n",
              "      <td>0.560661</td>\n",
              "      <td>-0.006018</td>\n",
              "      <td>3.308968</td>\n",
              "      <td>0.081564</td>\n",
              "      <td>4394.16</td>\n",
              "      <td>1</td>\n",
              "    </tr>\n",
              "    <tr>\n",
              "      <th>568626</th>\n",
              "      <td>568626</td>\n",
              "      <td>-0.670459</td>\n",
              "      <td>-0.202896</td>\n",
              "      <td>-0.068129</td>\n",
              "      <td>-0.267328</td>\n",
              "      <td>-0.133660</td>\n",
              "      <td>0.237148</td>\n",
              "      <td>-0.016935</td>\n",
              "      <td>-0.147733</td>\n",
              "      <td>0.483894</td>\n",
              "      <td>...</td>\n",
              "      <td>0.031874</td>\n",
              "      <td>0.388161</td>\n",
              "      <td>-0.154257</td>\n",
              "      <td>-0.846452</td>\n",
              "      <td>-0.153443</td>\n",
              "      <td>1.961398</td>\n",
              "      <td>-1.528642</td>\n",
              "      <td>1.704306</td>\n",
              "      <td>4653.40</td>\n",
              "      <td>1</td>\n",
              "    </tr>\n",
              "    <tr>\n",
              "      <th>568627</th>\n",
              "      <td>568627</td>\n",
              "      <td>-0.311997</td>\n",
              "      <td>-0.004095</td>\n",
              "      <td>0.137526</td>\n",
              "      <td>-0.035893</td>\n",
              "      <td>-0.042291</td>\n",
              "      <td>0.121098</td>\n",
              "      <td>-0.070958</td>\n",
              "      <td>-0.019997</td>\n",
              "      <td>-0.122048</td>\n",
              "      <td>...</td>\n",
              "      <td>0.140788</td>\n",
              "      <td>0.536523</td>\n",
              "      <td>-0.211100</td>\n",
              "      <td>-0.448909</td>\n",
              "      <td>0.540073</td>\n",
              "      <td>-0.755836</td>\n",
              "      <td>-0.487540</td>\n",
              "      <td>-0.268741</td>\n",
              "      <td>23572.85</td>\n",
              "      <td>1</td>\n",
              "    </tr>\n",
              "    <tr>\n",
              "      <th>568628</th>\n",
              "      <td>568628</td>\n",
              "      <td>0.636871</td>\n",
              "      <td>-0.516970</td>\n",
              "      <td>-0.300889</td>\n",
              "      <td>-0.144480</td>\n",
              "      <td>0.131042</td>\n",
              "      <td>-0.294148</td>\n",
              "      <td>0.580568</td>\n",
              "      <td>-0.207723</td>\n",
              "      <td>0.893527</td>\n",
              "      <td>...</td>\n",
              "      <td>-0.060381</td>\n",
              "      <td>-0.195609</td>\n",
              "      <td>-0.175488</td>\n",
              "      <td>-0.554643</td>\n",
              "      <td>-0.099669</td>\n",
              "      <td>-1.434931</td>\n",
              "      <td>-0.159269</td>\n",
              "      <td>-0.076251</td>\n",
              "      <td>10160.83</td>\n",
              "      <td>1</td>\n",
              "    </tr>\n",
              "    <tr>\n",
              "      <th>568629</th>\n",
              "      <td>568629</td>\n",
              "      <td>-0.795144</td>\n",
              "      <td>0.433236</td>\n",
              "      <td>-0.649140</td>\n",
              "      <td>0.374732</td>\n",
              "      <td>-0.244976</td>\n",
              "      <td>-0.603493</td>\n",
              "      <td>-0.347613</td>\n",
              "      <td>-0.340814</td>\n",
              "      <td>0.253971</td>\n",
              "      <td>...</td>\n",
              "      <td>0.534853</td>\n",
              "      <td>-0.291514</td>\n",
              "      <td>0.157303</td>\n",
              "      <td>0.931030</td>\n",
              "      <td>-0.349423</td>\n",
              "      <td>-1.090974</td>\n",
              "      <td>-1.575113</td>\n",
              "      <td>0.722936</td>\n",
              "      <td>21493.92</td>\n",
              "      <td>1</td>\n",
              "    </tr>\n",
              "  </tbody>\n",
              "</table>\n",
              "<p>5 rows × 31 columns</p>\n",
              "</div>"
            ],
            "text/plain": [
              "            id        V1        V2        V3        V4        V5        V6  \\\n",
              "568625  568625 -0.833437  0.061886 -0.899794  0.904227 -1.002401  0.481454   \n",
              "568626  568626 -0.670459 -0.202896 -0.068129 -0.267328 -0.133660  0.237148   \n",
              "568627  568627 -0.311997 -0.004095  0.137526 -0.035893 -0.042291  0.121098   \n",
              "568628  568628  0.636871 -0.516970 -0.300889 -0.144480  0.131042 -0.294148   \n",
              "568629  568629 -0.795144  0.433236 -0.649140  0.374732 -0.244976 -0.603493   \n",
              "\n",
              "              V7        V8        V9  ...       V21       V22       V23  \\\n",
              "568625 -0.370393  0.189694 -0.938153  ...  0.167503  0.419731  1.288249   \n",
              "568626 -0.016935 -0.147733  0.483894  ...  0.031874  0.388161 -0.154257   \n",
              "568627 -0.070958 -0.019997 -0.122048  ...  0.140788  0.536523 -0.211100   \n",
              "568628  0.580568 -0.207723  0.893527  ... -0.060381 -0.195609 -0.175488   \n",
              "568629 -0.347613 -0.340814  0.253971  ...  0.534853 -0.291514  0.157303   \n",
              "\n",
              "             V24       V25       V26       V27       V28    Amount  Class  \n",
              "568625 -0.900861  0.560661 -0.006018  3.308968  0.081564   4394.16      1  \n",
              "568626 -0.846452 -0.153443  1.961398 -1.528642  1.704306   4653.40      1  \n",
              "568627 -0.448909  0.540073 -0.755836 -0.487540 -0.268741  23572.85      1  \n",
              "568628 -0.554643 -0.099669 -1.434931 -0.159269 -0.076251  10160.83      1  \n",
              "568629  0.931030 -0.349423 -1.090974 -1.575113  0.722936  21493.92      1  \n",
              "\n",
              "[5 rows x 31 columns]"
            ]
          },
          "execution_count": 6,
          "metadata": {},
          "output_type": "execute_result"
        }
      ],
      "source": [
        "credit_card_data.tail()"
      ]
    },
    {
      "cell_type": "code",
      "execution_count": 7,
      "metadata": {
        "colab": {
          "base_uri": "https://localhost:8080/"
        },
        "id": "hR4ZGmgqRoIR",
        "outputId": "fbd58b6c-3d96-4caa-ad9d-04d8037cce00"
      },
      "outputs": [
        {
          "name": "stdout",
          "output_type": "stream",
          "text": [
            "<class 'pandas.core.frame.DataFrame'>\n",
            "RangeIndex: 568630 entries, 0 to 568629\n",
            "Data columns (total 31 columns):\n",
            " #   Column  Non-Null Count   Dtype  \n",
            "---  ------  --------------   -----  \n",
            " 0   id      568630 non-null  int64  \n",
            " 1   V1      568630 non-null  float64\n",
            " 2   V2      568630 non-null  float64\n",
            " 3   V3      568630 non-null  float64\n",
            " 4   V4      568630 non-null  float64\n",
            " 5   V5      568630 non-null  float64\n",
            " 6   V6      568630 non-null  float64\n",
            " 7   V7      568630 non-null  float64\n",
            " 8   V8      568630 non-null  float64\n",
            " 9   V9      568630 non-null  float64\n",
            " 10  V10     568630 non-null  float64\n",
            " 11  V11     568630 non-null  float64\n",
            " 12  V12     568630 non-null  float64\n",
            " 13  V13     568630 non-null  float64\n",
            " 14  V14     568630 non-null  float64\n",
            " 15  V15     568630 non-null  float64\n",
            " 16  V16     568630 non-null  float64\n",
            " 17  V17     568630 non-null  float64\n",
            " 18  V18     568630 non-null  float64\n",
            " 19  V19     568630 non-null  float64\n",
            " 20  V20     568630 non-null  float64\n",
            " 21  V21     568630 non-null  float64\n",
            " 22  V22     568630 non-null  float64\n",
            " 23  V23     568630 non-null  float64\n",
            " 24  V24     568630 non-null  float64\n",
            " 25  V25     568630 non-null  float64\n",
            " 26  V26     568630 non-null  float64\n",
            " 27  V27     568630 non-null  float64\n",
            " 28  V28     568630 non-null  float64\n",
            " 29  Amount  568630 non-null  float64\n",
            " 30  Class   568630 non-null  int64  \n",
            "dtypes: float64(29), int64(2)\n",
            "memory usage: 134.5 MB\n"
          ]
        }
      ],
      "source": [
        "# dataset informations\n",
        "credit_card_data.info()"
      ]
    },
    {
      "cell_type": "code",
      "execution_count": 8,
      "metadata": {
        "colab": {
          "base_uri": "https://localhost:8080/"
        },
        "id": "7WihjwiuRrfA",
        "outputId": "e060f8c4-1ed9-4308-8c23-8af29af2a69b"
      },
      "outputs": [
        {
          "data": {
            "text/plain": [
              "id        0\n",
              "V1        0\n",
              "V2        0\n",
              "V3        0\n",
              "V4        0\n",
              "V5        0\n",
              "V6        0\n",
              "V7        0\n",
              "V8        0\n",
              "V9        0\n",
              "V10       0\n",
              "V11       0\n",
              "V12       0\n",
              "V13       0\n",
              "V14       0\n",
              "V15       0\n",
              "V16       0\n",
              "V17       0\n",
              "V18       0\n",
              "V19       0\n",
              "V20       0\n",
              "V21       0\n",
              "V22       0\n",
              "V23       0\n",
              "V24       0\n",
              "V25       0\n",
              "V26       0\n",
              "V27       0\n",
              "V28       0\n",
              "Amount    0\n",
              "Class     0\n",
              "dtype: int64"
            ]
          },
          "execution_count": 8,
          "metadata": {},
          "output_type": "execute_result"
        }
      ],
      "source": [
        "# checking the number of missing values in each column\n",
        "credit_card_data.isnull().sum()"
      ]
    },
    {
      "cell_type": "code",
      "execution_count": 9,
      "metadata": {
        "colab": {
          "base_uri": "https://localhost:8080/"
        },
        "id": "nN1uc0PcRvr-",
        "outputId": "0c4aa0b4-1089-44ae-b7fc-ef56fffc2fe5"
      },
      "outputs": [
        {
          "data": {
            "text/plain": [
              "Class\n",
              "0    284315\n",
              "1    284315\n",
              "Name: count, dtype: int64"
            ]
          },
          "execution_count": 9,
          "metadata": {},
          "output_type": "execute_result"
        }
      ],
      "source": [
        "# distribution of legit transactions & fraudulent transactions\n",
        "credit_card_data['Class'].value_counts()"
      ]
    },
    {
      "cell_type": "markdown",
      "metadata": {
        "id": "MN6FzE-2SLFE"
      },
      "source": [
        "This Dataset is highly unblanced"
      ]
    },
    {
      "cell_type": "markdown",
      "metadata": {
        "id": "XgIetS2_SNow"
      },
      "source": [
        "0 --> Normal Transaction,\n",
        "\n",
        "\n",
        "1 --> fraudulent transaction"
      ]
    },
    {
      "cell_type": "code",
      "execution_count": 10,
      "metadata": {
        "id": "N2t5EKMXSP-D"
      },
      "outputs": [],
      "source": [
        "# separating the data for analysis\n",
        "legit = credit_card_data[credit_card_data.Class == 0]\n",
        "fraud = credit_card_data[credit_card_data.Class == 1]"
      ]
    },
    {
      "cell_type": "code",
      "execution_count": 11,
      "metadata": {
        "colab": {
          "base_uri": "https://localhost:8080/"
        },
        "id": "ZBUV8CQfUzn4",
        "outputId": "9cda5667-4ddb-48fe-8965-2e4d87eabc19"
      },
      "outputs": [
        {
          "name": "stdout",
          "output_type": "stream",
          "text": [
            "(284315, 31)\n",
            "(284315, 31)\n"
          ]
        }
      ],
      "source": [
        "print(legit.shape)\n",
        "print(fraud.shape)"
      ]
    },
    {
      "cell_type": "code",
      "execution_count": 12,
      "metadata": {
        "colab": {
          "base_uri": "https://localhost:8080/"
        },
        "id": "PBqs7J-WWRCw",
        "outputId": "eb26c21f-eb4b-4290-e7e9-8830f5063215"
      },
      "outputs": [
        {
          "data": {
            "text/plain": [
              "count    284315.000000\n",
              "mean      12026.313506\n",
              "std        6929.500715\n",
              "min          50.120000\n",
              "25%        6034.540000\n",
              "50%       11996.900000\n",
              "75%       18040.265000\n",
              "max       24039.930000\n",
              "Name: Amount, dtype: float64"
            ]
          },
          "execution_count": 12,
          "metadata": {},
          "output_type": "execute_result"
        }
      ],
      "source": [
        "# statistical measures of the data\n",
        "legit.Amount.describe()"
      ]
    },
    {
      "cell_type": "code",
      "execution_count": 13,
      "metadata": {
        "colab": {
          "base_uri": "https://localhost:8080/"
        },
        "id": "qiW3nexcWUpG",
        "outputId": "ee871f68-348e-45cc-e09a-e994b71c568b"
      },
      "outputs": [
        {
          "data": {
            "text/plain": [
              "count    284315.000000\n",
              "mean      12057.601763\n",
              "std        6909.750891\n",
              "min          50.010000\n",
              "25%        6074.640000\n",
              "50%       12062.450000\n",
              "75%       18033.780000\n",
              "max       24039.930000\n",
              "Name: Amount, dtype: float64"
            ]
          },
          "execution_count": 13,
          "metadata": {},
          "output_type": "execute_result"
        }
      ],
      "source": [
        "fraud.Amount.describe()"
      ]
    },
    {
      "cell_type": "code",
      "execution_count": 14,
      "metadata": {
        "colab": {
          "base_uri": "https://localhost:8080/",
          "height": 193
        },
        "id": "I2fPsf9MWYXH",
        "outputId": "5fa2e76c-0dcd-4335-dec0-38576d611cdc"
      },
      "outputs": [
        {
          "data": {
            "text/html": [
              "<div>\n",
              "<style scoped>\n",
              "    .dataframe tbody tr th:only-of-type {\n",
              "        vertical-align: middle;\n",
              "    }\n",
              "\n",
              "    .dataframe tbody tr th {\n",
              "        vertical-align: top;\n",
              "    }\n",
              "\n",
              "    .dataframe thead th {\n",
              "        text-align: right;\n",
              "    }\n",
              "</style>\n",
              "<table border=\"1\" class=\"dataframe\">\n",
              "  <thead>\n",
              "    <tr style=\"text-align: right;\">\n",
              "      <th></th>\n",
              "      <th>id</th>\n",
              "      <th>V1</th>\n",
              "      <th>V2</th>\n",
              "      <th>V3</th>\n",
              "      <th>V4</th>\n",
              "      <th>V5</th>\n",
              "      <th>V6</th>\n",
              "      <th>V7</th>\n",
              "      <th>V8</th>\n",
              "      <th>V9</th>\n",
              "      <th>...</th>\n",
              "      <th>V20</th>\n",
              "      <th>V21</th>\n",
              "      <th>V22</th>\n",
              "      <th>V23</th>\n",
              "      <th>V24</th>\n",
              "      <th>V25</th>\n",
              "      <th>V26</th>\n",
              "      <th>V27</th>\n",
              "      <th>V28</th>\n",
              "      <th>Amount</th>\n",
              "    </tr>\n",
              "    <tr>\n",
              "      <th>Class</th>\n",
              "      <th></th>\n",
              "      <th></th>\n",
              "      <th></th>\n",
              "      <th></th>\n",
              "      <th></th>\n",
              "      <th></th>\n",
              "      <th></th>\n",
              "      <th></th>\n",
              "      <th></th>\n",
              "      <th></th>\n",
              "      <th></th>\n",
              "      <th></th>\n",
              "      <th></th>\n",
              "      <th></th>\n",
              "      <th></th>\n",
              "      <th></th>\n",
              "      <th></th>\n",
              "      <th></th>\n",
              "      <th></th>\n",
              "      <th></th>\n",
              "      <th></th>\n",
              "    </tr>\n",
              "  </thead>\n",
              "  <tbody>\n",
              "    <tr>\n",
              "      <th>0</th>\n",
              "      <td>142442.987714</td>\n",
              "      <td>0.505761</td>\n",
              "      <td>-0.491878</td>\n",
              "      <td>0.682095</td>\n",
              "      <td>-0.735981</td>\n",
              "      <td>0.338639</td>\n",
              "      <td>0.435088</td>\n",
              "      <td>0.491234</td>\n",
              "      <td>-0.144294</td>\n",
              "      <td>0.585522</td>\n",
              "      <td>...</td>\n",
              "      <td>-0.179851</td>\n",
              "      <td>-0.10964</td>\n",
              "      <td>-0.014098</td>\n",
              "      <td>-0.010255</td>\n",
              "      <td>0.130107</td>\n",
              "      <td>-0.061847</td>\n",
              "      <td>-0.071052</td>\n",
              "      <td>-0.214002</td>\n",
              "      <td>-0.102024</td>\n",
              "      <td>12026.313506</td>\n",
              "    </tr>\n",
              "    <tr>\n",
              "      <th>1</th>\n",
              "      <td>426186.012286</td>\n",
              "      <td>-0.505761</td>\n",
              "      <td>0.491878</td>\n",
              "      <td>-0.682095</td>\n",
              "      <td>0.735981</td>\n",
              "      <td>-0.338639</td>\n",
              "      <td>-0.435088</td>\n",
              "      <td>-0.491234</td>\n",
              "      <td>0.144294</td>\n",
              "      <td>-0.585522</td>\n",
              "      <td>...</td>\n",
              "      <td>0.179851</td>\n",
              "      <td>0.10964</td>\n",
              "      <td>0.014098</td>\n",
              "      <td>0.010255</td>\n",
              "      <td>-0.130107</td>\n",
              "      <td>0.061847</td>\n",
              "      <td>0.071052</td>\n",
              "      <td>0.214002</td>\n",
              "      <td>0.102024</td>\n",
              "      <td>12057.601763</td>\n",
              "    </tr>\n",
              "  </tbody>\n",
              "</table>\n",
              "<p>2 rows × 30 columns</p>\n",
              "</div>"
            ],
            "text/plain": [
              "                  id        V1        V2        V3        V4        V5  \\\n",
              "Class                                                                    \n",
              "0      142442.987714  0.505761 -0.491878  0.682095 -0.735981  0.338639   \n",
              "1      426186.012286 -0.505761  0.491878 -0.682095  0.735981 -0.338639   \n",
              "\n",
              "             V6        V7        V8        V9  ...       V20      V21  \\\n",
              "Class                                          ...                      \n",
              "0      0.435088  0.491234 -0.144294  0.585522  ... -0.179851 -0.10964   \n",
              "1     -0.435088 -0.491234  0.144294 -0.585522  ...  0.179851  0.10964   \n",
              "\n",
              "            V22       V23       V24       V25       V26       V27       V28  \\\n",
              "Class                                                                         \n",
              "0     -0.014098 -0.010255  0.130107 -0.061847 -0.071052 -0.214002 -0.102024   \n",
              "1      0.014098  0.010255 -0.130107  0.061847  0.071052  0.214002  0.102024   \n",
              "\n",
              "             Amount  \n",
              "Class                \n",
              "0      12026.313506  \n",
              "1      12057.601763  \n",
              "\n",
              "[2 rows x 30 columns]"
            ]
          },
          "execution_count": 14,
          "metadata": {},
          "output_type": "execute_result"
        }
      ],
      "source": [
        "# compare the values for both transactions\n",
        "credit_card_data.groupby('Class').mean()"
      ]
    },
    {
      "cell_type": "markdown",
      "metadata": {
        "id": "UU2DB-6cWbpo"
      },
      "source": [
        "Under-Sampling"
      ]
    },
    {
      "cell_type": "markdown",
      "metadata": {
        "id": "JD76zM-1Wdh4"
      },
      "source": [
        "Build a sample dataset containing similar distribution of normal transactions and Fraudulent Transactions"
      ]
    },
    {
      "cell_type": "markdown",
      "metadata": {
        "id": "t0u2fjHNWjgk"
      },
      "source": [
        "Number of Fraudulent Transactions --> 492"
      ]
    },
    {
      "cell_type": "code",
      "execution_count": 15,
      "metadata": {
        "id": "HZfc0fB3Wnoj"
      },
      "outputs": [],
      "source": [
        "legit_sample = legit.sample(n=492)"
      ]
    },
    {
      "cell_type": "markdown",
      "metadata": {
        "id": "iDVFK0q1WrAk"
      },
      "source": [
        "Concatenating two DataFrames"
      ]
    },
    {
      "cell_type": "code",
      "execution_count": 16,
      "metadata": {
        "id": "ZIsXDJbAWvqc"
      },
      "outputs": [],
      "source": [
        "new_dataset = pd.concat([legit_sample, fraud], axis=0)"
      ]
    },
    {
      "cell_type": "code",
      "execution_count": 17,
      "metadata": {
        "colab": {
          "base_uri": "https://localhost:8080/",
          "height": 256
        },
        "id": "xpxV8R-mWywr",
        "outputId": "02335876-09c3-4e74-936f-25f948e79441"
      },
      "outputs": [
        {
          "data": {
            "text/html": [
              "<div>\n",
              "<style scoped>\n",
              "    .dataframe tbody tr th:only-of-type {\n",
              "        vertical-align: middle;\n",
              "    }\n",
              "\n",
              "    .dataframe tbody tr th {\n",
              "        vertical-align: top;\n",
              "    }\n",
              "\n",
              "    .dataframe thead th {\n",
              "        text-align: right;\n",
              "    }\n",
              "</style>\n",
              "<table border=\"1\" class=\"dataframe\">\n",
              "  <thead>\n",
              "    <tr style=\"text-align: right;\">\n",
              "      <th></th>\n",
              "      <th>id</th>\n",
              "      <th>V1</th>\n",
              "      <th>V2</th>\n",
              "      <th>V3</th>\n",
              "      <th>V4</th>\n",
              "      <th>V5</th>\n",
              "      <th>V6</th>\n",
              "      <th>V7</th>\n",
              "      <th>V8</th>\n",
              "      <th>V9</th>\n",
              "      <th>...</th>\n",
              "      <th>V21</th>\n",
              "      <th>V22</th>\n",
              "      <th>V23</th>\n",
              "      <th>V24</th>\n",
              "      <th>V25</th>\n",
              "      <th>V26</th>\n",
              "      <th>V27</th>\n",
              "      <th>V28</th>\n",
              "      <th>Amount</th>\n",
              "      <th>Class</th>\n",
              "    </tr>\n",
              "  </thead>\n",
              "  <tbody>\n",
              "    <tr>\n",
              "      <th>53691</th>\n",
              "      <td>53691</td>\n",
              "      <td>1.093318</td>\n",
              "      <td>-0.455835</td>\n",
              "      <td>0.765377</td>\n",
              "      <td>-0.649298</td>\n",
              "      <td>0.091775</td>\n",
              "      <td>0.310969</td>\n",
              "      <td>0.305776</td>\n",
              "      <td>-0.174855</td>\n",
              "      <td>0.793670</td>\n",
              "      <td>...</td>\n",
              "      <td>-0.051207</td>\n",
              "      <td>0.453898</td>\n",
              "      <td>-0.210345</td>\n",
              "      <td>-0.553373</td>\n",
              "      <td>0.696712</td>\n",
              "      <td>1.985149</td>\n",
              "      <td>-0.271577</td>\n",
              "      <td>-0.081470</td>\n",
              "      <td>9518.50</td>\n",
              "      <td>0</td>\n",
              "    </tr>\n",
              "    <tr>\n",
              "      <th>51583</th>\n",
              "      <td>51583</td>\n",
              "      <td>1.092611</td>\n",
              "      <td>-0.830770</td>\n",
              "      <td>0.391879</td>\n",
              "      <td>-2.170559</td>\n",
              "      <td>0.002075</td>\n",
              "      <td>0.400097</td>\n",
              "      <td>0.246622</td>\n",
              "      <td>-0.174487</td>\n",
              "      <td>0.496510</td>\n",
              "      <td>...</td>\n",
              "      <td>-0.229215</td>\n",
              "      <td>-0.429815</td>\n",
              "      <td>-0.260728</td>\n",
              "      <td>-1.612462</td>\n",
              "      <td>0.793001</td>\n",
              "      <td>0.127089</td>\n",
              "      <td>-0.204114</td>\n",
              "      <td>-0.060973</td>\n",
              "      <td>7376.02</td>\n",
              "      <td>0</td>\n",
              "    </tr>\n",
              "    <tr>\n",
              "      <th>223954</th>\n",
              "      <td>223954</td>\n",
              "      <td>1.795665</td>\n",
              "      <td>-0.425306</td>\n",
              "      <td>-0.114754</td>\n",
              "      <td>-0.543036</td>\n",
              "      <td>0.565724</td>\n",
              "      <td>0.360971</td>\n",
              "      <td>0.443611</td>\n",
              "      <td>-0.154635</td>\n",
              "      <td>0.702128</td>\n",
              "      <td>...</td>\n",
              "      <td>-0.243816</td>\n",
              "      <td>-0.851479</td>\n",
              "      <td>0.262560</td>\n",
              "      <td>-0.101794</td>\n",
              "      <td>-0.484838</td>\n",
              "      <td>0.437757</td>\n",
              "      <td>-0.312747</td>\n",
              "      <td>-0.213939</td>\n",
              "      <td>20776.23</td>\n",
              "      <td>0</td>\n",
              "    </tr>\n",
              "    <tr>\n",
              "      <th>281204</th>\n",
              "      <td>281204</td>\n",
              "      <td>1.723485</td>\n",
              "      <td>-1.277448</td>\n",
              "      <td>0.460638</td>\n",
              "      <td>-1.489936</td>\n",
              "      <td>-0.351147</td>\n",
              "      <td>0.635543</td>\n",
              "      <td>-0.075172</td>\n",
              "      <td>-0.127173</td>\n",
              "      <td>0.220935</td>\n",
              "      <td>...</td>\n",
              "      <td>-0.052172</td>\n",
              "      <td>0.540219</td>\n",
              "      <td>0.127617</td>\n",
              "      <td>1.024827</td>\n",
              "      <td>-0.887587</td>\n",
              "      <td>-0.276896</td>\n",
              "      <td>-0.176813</td>\n",
              "      <td>-0.093486</td>\n",
              "      <td>3897.12</td>\n",
              "      <td>0</td>\n",
              "    </tr>\n",
              "    <tr>\n",
              "      <th>136286</th>\n",
              "      <td>136286</td>\n",
              "      <td>-0.168842</td>\n",
              "      <td>-0.095075</td>\n",
              "      <td>1.919783</td>\n",
              "      <td>-0.491029</td>\n",
              "      <td>0.365722</td>\n",
              "      <td>0.219655</td>\n",
              "      <td>0.692719</td>\n",
              "      <td>-0.158177</td>\n",
              "      <td>0.033547</td>\n",
              "      <td>...</td>\n",
              "      <td>-0.143844</td>\n",
              "      <td>-0.445382</td>\n",
              "      <td>-0.266835</td>\n",
              "      <td>0.617172</td>\n",
              "      <td>0.290470</td>\n",
              "      <td>-1.623420</td>\n",
              "      <td>-0.444451</td>\n",
              "      <td>0.072342</td>\n",
              "      <td>18419.19</td>\n",
              "      <td>0</td>\n",
              "    </tr>\n",
              "  </tbody>\n",
              "</table>\n",
              "<p>5 rows × 31 columns</p>\n",
              "</div>"
            ],
            "text/plain": [
              "            id        V1        V2        V3        V4        V5        V6  \\\n",
              "53691    53691  1.093318 -0.455835  0.765377 -0.649298  0.091775  0.310969   \n",
              "51583    51583  1.092611 -0.830770  0.391879 -2.170559  0.002075  0.400097   \n",
              "223954  223954  1.795665 -0.425306 -0.114754 -0.543036  0.565724  0.360971   \n",
              "281204  281204  1.723485 -1.277448  0.460638 -1.489936 -0.351147  0.635543   \n",
              "136286  136286 -0.168842 -0.095075  1.919783 -0.491029  0.365722  0.219655   \n",
              "\n",
              "              V7        V8        V9  ...       V21       V22       V23  \\\n",
              "53691   0.305776 -0.174855  0.793670  ... -0.051207  0.453898 -0.210345   \n",
              "51583   0.246622 -0.174487  0.496510  ... -0.229215 -0.429815 -0.260728   \n",
              "223954  0.443611 -0.154635  0.702128  ... -0.243816 -0.851479  0.262560   \n",
              "281204 -0.075172 -0.127173  0.220935  ... -0.052172  0.540219  0.127617   \n",
              "136286  0.692719 -0.158177  0.033547  ... -0.143844 -0.445382 -0.266835   \n",
              "\n",
              "             V24       V25       V26       V27       V28    Amount  Class  \n",
              "53691  -0.553373  0.696712  1.985149 -0.271577 -0.081470   9518.50      0  \n",
              "51583  -1.612462  0.793001  0.127089 -0.204114 -0.060973   7376.02      0  \n",
              "223954 -0.101794 -0.484838  0.437757 -0.312747 -0.213939  20776.23      0  \n",
              "281204  1.024827 -0.887587 -0.276896 -0.176813 -0.093486   3897.12      0  \n",
              "136286  0.617172  0.290470 -1.623420 -0.444451  0.072342  18419.19      0  \n",
              "\n",
              "[5 rows x 31 columns]"
            ]
          },
          "execution_count": 17,
          "metadata": {},
          "output_type": "execute_result"
        }
      ],
      "source": [
        "new_dataset.head()"
      ]
    },
    {
      "cell_type": "code",
      "execution_count": 18,
      "metadata": {
        "colab": {
          "base_uri": "https://localhost:8080/",
          "height": 256
        },
        "id": "bAXCykktW12M",
        "outputId": "fa36e200-ecdc-4934-b7b7-f92a7012e92f"
      },
      "outputs": [
        {
          "data": {
            "text/html": [
              "<div>\n",
              "<style scoped>\n",
              "    .dataframe tbody tr th:only-of-type {\n",
              "        vertical-align: middle;\n",
              "    }\n",
              "\n",
              "    .dataframe tbody tr th {\n",
              "        vertical-align: top;\n",
              "    }\n",
              "\n",
              "    .dataframe thead th {\n",
              "        text-align: right;\n",
              "    }\n",
              "</style>\n",
              "<table border=\"1\" class=\"dataframe\">\n",
              "  <thead>\n",
              "    <tr style=\"text-align: right;\">\n",
              "      <th></th>\n",
              "      <th>id</th>\n",
              "      <th>V1</th>\n",
              "      <th>V2</th>\n",
              "      <th>V3</th>\n",
              "      <th>V4</th>\n",
              "      <th>V5</th>\n",
              "      <th>V6</th>\n",
              "      <th>V7</th>\n",
              "      <th>V8</th>\n",
              "      <th>V9</th>\n",
              "      <th>...</th>\n",
              "      <th>V21</th>\n",
              "      <th>V22</th>\n",
              "      <th>V23</th>\n",
              "      <th>V24</th>\n",
              "      <th>V25</th>\n",
              "      <th>V26</th>\n",
              "      <th>V27</th>\n",
              "      <th>V28</th>\n",
              "      <th>Amount</th>\n",
              "      <th>Class</th>\n",
              "    </tr>\n",
              "  </thead>\n",
              "  <tbody>\n",
              "    <tr>\n",
              "      <th>568625</th>\n",
              "      <td>568625</td>\n",
              "      <td>-0.833437</td>\n",
              "      <td>0.061886</td>\n",
              "      <td>-0.899794</td>\n",
              "      <td>0.904227</td>\n",
              "      <td>-1.002401</td>\n",
              "      <td>0.481454</td>\n",
              "      <td>-0.370393</td>\n",
              "      <td>0.189694</td>\n",
              "      <td>-0.938153</td>\n",
              "      <td>...</td>\n",
              "      <td>0.167503</td>\n",
              "      <td>0.419731</td>\n",
              "      <td>1.288249</td>\n",
              "      <td>-0.900861</td>\n",
              "      <td>0.560661</td>\n",
              "      <td>-0.006018</td>\n",
              "      <td>3.308968</td>\n",
              "      <td>0.081564</td>\n",
              "      <td>4394.16</td>\n",
              "      <td>1</td>\n",
              "    </tr>\n",
              "    <tr>\n",
              "      <th>568626</th>\n",
              "      <td>568626</td>\n",
              "      <td>-0.670459</td>\n",
              "      <td>-0.202896</td>\n",
              "      <td>-0.068129</td>\n",
              "      <td>-0.267328</td>\n",
              "      <td>-0.133660</td>\n",
              "      <td>0.237148</td>\n",
              "      <td>-0.016935</td>\n",
              "      <td>-0.147733</td>\n",
              "      <td>0.483894</td>\n",
              "      <td>...</td>\n",
              "      <td>0.031874</td>\n",
              "      <td>0.388161</td>\n",
              "      <td>-0.154257</td>\n",
              "      <td>-0.846452</td>\n",
              "      <td>-0.153443</td>\n",
              "      <td>1.961398</td>\n",
              "      <td>-1.528642</td>\n",
              "      <td>1.704306</td>\n",
              "      <td>4653.40</td>\n",
              "      <td>1</td>\n",
              "    </tr>\n",
              "    <tr>\n",
              "      <th>568627</th>\n",
              "      <td>568627</td>\n",
              "      <td>-0.311997</td>\n",
              "      <td>-0.004095</td>\n",
              "      <td>0.137526</td>\n",
              "      <td>-0.035893</td>\n",
              "      <td>-0.042291</td>\n",
              "      <td>0.121098</td>\n",
              "      <td>-0.070958</td>\n",
              "      <td>-0.019997</td>\n",
              "      <td>-0.122048</td>\n",
              "      <td>...</td>\n",
              "      <td>0.140788</td>\n",
              "      <td>0.536523</td>\n",
              "      <td>-0.211100</td>\n",
              "      <td>-0.448909</td>\n",
              "      <td>0.540073</td>\n",
              "      <td>-0.755836</td>\n",
              "      <td>-0.487540</td>\n",
              "      <td>-0.268741</td>\n",
              "      <td>23572.85</td>\n",
              "      <td>1</td>\n",
              "    </tr>\n",
              "    <tr>\n",
              "      <th>568628</th>\n",
              "      <td>568628</td>\n",
              "      <td>0.636871</td>\n",
              "      <td>-0.516970</td>\n",
              "      <td>-0.300889</td>\n",
              "      <td>-0.144480</td>\n",
              "      <td>0.131042</td>\n",
              "      <td>-0.294148</td>\n",
              "      <td>0.580568</td>\n",
              "      <td>-0.207723</td>\n",
              "      <td>0.893527</td>\n",
              "      <td>...</td>\n",
              "      <td>-0.060381</td>\n",
              "      <td>-0.195609</td>\n",
              "      <td>-0.175488</td>\n",
              "      <td>-0.554643</td>\n",
              "      <td>-0.099669</td>\n",
              "      <td>-1.434931</td>\n",
              "      <td>-0.159269</td>\n",
              "      <td>-0.076251</td>\n",
              "      <td>10160.83</td>\n",
              "      <td>1</td>\n",
              "    </tr>\n",
              "    <tr>\n",
              "      <th>568629</th>\n",
              "      <td>568629</td>\n",
              "      <td>-0.795144</td>\n",
              "      <td>0.433236</td>\n",
              "      <td>-0.649140</td>\n",
              "      <td>0.374732</td>\n",
              "      <td>-0.244976</td>\n",
              "      <td>-0.603493</td>\n",
              "      <td>-0.347613</td>\n",
              "      <td>-0.340814</td>\n",
              "      <td>0.253971</td>\n",
              "      <td>...</td>\n",
              "      <td>0.534853</td>\n",
              "      <td>-0.291514</td>\n",
              "      <td>0.157303</td>\n",
              "      <td>0.931030</td>\n",
              "      <td>-0.349423</td>\n",
              "      <td>-1.090974</td>\n",
              "      <td>-1.575113</td>\n",
              "      <td>0.722936</td>\n",
              "      <td>21493.92</td>\n",
              "      <td>1</td>\n",
              "    </tr>\n",
              "  </tbody>\n",
              "</table>\n",
              "<p>5 rows × 31 columns</p>\n",
              "</div>"
            ],
            "text/plain": [
              "            id        V1        V2        V3        V4        V5        V6  \\\n",
              "568625  568625 -0.833437  0.061886 -0.899794  0.904227 -1.002401  0.481454   \n",
              "568626  568626 -0.670459 -0.202896 -0.068129 -0.267328 -0.133660  0.237148   \n",
              "568627  568627 -0.311997 -0.004095  0.137526 -0.035893 -0.042291  0.121098   \n",
              "568628  568628  0.636871 -0.516970 -0.300889 -0.144480  0.131042 -0.294148   \n",
              "568629  568629 -0.795144  0.433236 -0.649140  0.374732 -0.244976 -0.603493   \n",
              "\n",
              "              V7        V8        V9  ...       V21       V22       V23  \\\n",
              "568625 -0.370393  0.189694 -0.938153  ...  0.167503  0.419731  1.288249   \n",
              "568626 -0.016935 -0.147733  0.483894  ...  0.031874  0.388161 -0.154257   \n",
              "568627 -0.070958 -0.019997 -0.122048  ...  0.140788  0.536523 -0.211100   \n",
              "568628  0.580568 -0.207723  0.893527  ... -0.060381 -0.195609 -0.175488   \n",
              "568629 -0.347613 -0.340814  0.253971  ...  0.534853 -0.291514  0.157303   \n",
              "\n",
              "             V24       V25       V26       V27       V28    Amount  Class  \n",
              "568625 -0.900861  0.560661 -0.006018  3.308968  0.081564   4394.16      1  \n",
              "568626 -0.846452 -0.153443  1.961398 -1.528642  1.704306   4653.40      1  \n",
              "568627 -0.448909  0.540073 -0.755836 -0.487540 -0.268741  23572.85      1  \n",
              "568628 -0.554643 -0.099669 -1.434931 -0.159269 -0.076251  10160.83      1  \n",
              "568629  0.931030 -0.349423 -1.090974 -1.575113  0.722936  21493.92      1  \n",
              "\n",
              "[5 rows x 31 columns]"
            ]
          },
          "execution_count": 18,
          "metadata": {},
          "output_type": "execute_result"
        }
      ],
      "source": [
        "new_dataset.tail()"
      ]
    },
    {
      "cell_type": "code",
      "execution_count": 19,
      "metadata": {
        "colab": {
          "base_uri": "https://localhost:8080/"
        },
        "id": "1Mi8vckhW4ij",
        "outputId": "ac89cea5-3b43-41d9-9612-ccbf38608284"
      },
      "outputs": [
        {
          "data": {
            "text/plain": [
              "Class\n",
              "1    284315\n",
              "0       492\n",
              "Name: count, dtype: int64"
            ]
          },
          "execution_count": 19,
          "metadata": {},
          "output_type": "execute_result"
        }
      ],
      "source": [
        "new_dataset['Class'].value_counts()"
      ]
    },
    {
      "cell_type": "code",
      "execution_count": 20,
      "metadata": {
        "colab": {
          "base_uri": "https://localhost:8080/",
          "height": 193
        },
        "id": "xWmcSUjbW68t",
        "outputId": "393aa8b2-6632-400c-e5c3-367144c65773"
      },
      "outputs": [
        {
          "data": {
            "text/html": [
              "<div>\n",
              "<style scoped>\n",
              "    .dataframe tbody tr th:only-of-type {\n",
              "        vertical-align: middle;\n",
              "    }\n",
              "\n",
              "    .dataframe tbody tr th {\n",
              "        vertical-align: top;\n",
              "    }\n",
              "\n",
              "    .dataframe thead th {\n",
              "        text-align: right;\n",
              "    }\n",
              "</style>\n",
              "<table border=\"1\" class=\"dataframe\">\n",
              "  <thead>\n",
              "    <tr style=\"text-align: right;\">\n",
              "      <th></th>\n",
              "      <th>id</th>\n",
              "      <th>V1</th>\n",
              "      <th>V2</th>\n",
              "      <th>V3</th>\n",
              "      <th>V4</th>\n",
              "      <th>V5</th>\n",
              "      <th>V6</th>\n",
              "      <th>V7</th>\n",
              "      <th>V8</th>\n",
              "      <th>V9</th>\n",
              "      <th>...</th>\n",
              "      <th>V20</th>\n",
              "      <th>V21</th>\n",
              "      <th>V22</th>\n",
              "      <th>V23</th>\n",
              "      <th>V24</th>\n",
              "      <th>V25</th>\n",
              "      <th>V26</th>\n",
              "      <th>V27</th>\n",
              "      <th>V28</th>\n",
              "      <th>Amount</th>\n",
              "    </tr>\n",
              "    <tr>\n",
              "      <th>Class</th>\n",
              "      <th></th>\n",
              "      <th></th>\n",
              "      <th></th>\n",
              "      <th></th>\n",
              "      <th></th>\n",
              "      <th></th>\n",
              "      <th></th>\n",
              "      <th></th>\n",
              "      <th></th>\n",
              "      <th></th>\n",
              "      <th></th>\n",
              "      <th></th>\n",
              "      <th></th>\n",
              "      <th></th>\n",
              "      <th></th>\n",
              "      <th></th>\n",
              "      <th></th>\n",
              "      <th></th>\n",
              "      <th></th>\n",
              "      <th></th>\n",
              "      <th></th>\n",
              "    </tr>\n",
              "  </thead>\n",
              "  <tbody>\n",
              "    <tr>\n",
              "      <th>0</th>\n",
              "      <td>144097.132114</td>\n",
              "      <td>0.458778</td>\n",
              "      <td>-0.452796</td>\n",
              "      <td>0.707364</td>\n",
              "      <td>-0.761776</td>\n",
              "      <td>0.337069</td>\n",
              "      <td>0.385999</td>\n",
              "      <td>0.492014</td>\n",
              "      <td>-0.148889</td>\n",
              "      <td>0.544541</td>\n",
              "      <td>...</td>\n",
              "      <td>-0.135756</td>\n",
              "      <td>-0.119443</td>\n",
              "      <td>-0.003028</td>\n",
              "      <td>-0.039699</td>\n",
              "      <td>0.086490</td>\n",
              "      <td>-0.067438</td>\n",
              "      <td>-0.038908</td>\n",
              "      <td>-0.208115</td>\n",
              "      <td>-0.045941</td>\n",
              "      <td>12404.954919</td>\n",
              "    </tr>\n",
              "    <tr>\n",
              "      <th>1</th>\n",
              "      <td>426186.012286</td>\n",
              "      <td>-0.505761</td>\n",
              "      <td>0.491878</td>\n",
              "      <td>-0.682095</td>\n",
              "      <td>0.735981</td>\n",
              "      <td>-0.338639</td>\n",
              "      <td>-0.435088</td>\n",
              "      <td>-0.491234</td>\n",
              "      <td>0.144294</td>\n",
              "      <td>-0.585522</td>\n",
              "      <td>...</td>\n",
              "      <td>0.179851</td>\n",
              "      <td>0.109640</td>\n",
              "      <td>0.014098</td>\n",
              "      <td>0.010255</td>\n",
              "      <td>-0.130107</td>\n",
              "      <td>0.061847</td>\n",
              "      <td>0.071052</td>\n",
              "      <td>0.214002</td>\n",
              "      <td>0.102024</td>\n",
              "      <td>12057.601763</td>\n",
              "    </tr>\n",
              "  </tbody>\n",
              "</table>\n",
              "<p>2 rows × 30 columns</p>\n",
              "</div>"
            ],
            "text/plain": [
              "                  id        V1        V2        V3        V4        V5  \\\n",
              "Class                                                                    \n",
              "0      144097.132114  0.458778 -0.452796  0.707364 -0.761776  0.337069   \n",
              "1      426186.012286 -0.505761  0.491878 -0.682095  0.735981 -0.338639   \n",
              "\n",
              "             V6        V7        V8        V9  ...       V20       V21  \\\n",
              "Class                                          ...                       \n",
              "0      0.385999  0.492014 -0.148889  0.544541  ... -0.135756 -0.119443   \n",
              "1     -0.435088 -0.491234  0.144294 -0.585522  ...  0.179851  0.109640   \n",
              "\n",
              "            V22       V23       V24       V25       V26       V27       V28  \\\n",
              "Class                                                                         \n",
              "0     -0.003028 -0.039699  0.086490 -0.067438 -0.038908 -0.208115 -0.045941   \n",
              "1      0.014098  0.010255 -0.130107  0.061847  0.071052  0.214002  0.102024   \n",
              "\n",
              "             Amount  \n",
              "Class                \n",
              "0      12404.954919  \n",
              "1      12057.601763  \n",
              "\n",
              "[2 rows x 30 columns]"
            ]
          },
          "execution_count": 20,
          "metadata": {},
          "output_type": "execute_result"
        }
      ],
      "source": [
        "new_dataset.groupby('Class').mean()"
      ]
    },
    {
      "cell_type": "markdown",
      "metadata": {
        "id": "D1elk-EqW_Dm"
      },
      "source": [
        "Splitting the data into Features & Targets"
      ]
    },
    {
      "cell_type": "code",
      "execution_count": 21,
      "metadata": {
        "id": "p53rGYWWW_9Q"
      },
      "outputs": [],
      "source": [
        "X = new_dataset.drop(columns='Class', axis=1)\n",
        "Y = new_dataset['Class']"
      ]
    },
    {
      "cell_type": "code",
      "execution_count": 22,
      "metadata": {
        "colab": {
          "base_uri": "https://localhost:8080/"
        },
        "id": "jXQPy85aXET8",
        "outputId": "f2dd9b98-1886-4949-c2ca-dc31108e81dc"
      },
      "outputs": [
        {
          "name": "stdout",
          "output_type": "stream",
          "text": [
            "            id        V1        V2        V3        V4        V5        V6  \\\n",
            "53691    53691  1.093318 -0.455835  0.765377 -0.649298  0.091775  0.310969   \n",
            "51583    51583  1.092611 -0.830770  0.391879 -2.170559  0.002075  0.400097   \n",
            "223954  223954  1.795665 -0.425306 -0.114754 -0.543036  0.565724  0.360971   \n",
            "281204  281204  1.723485 -1.277448  0.460638 -1.489936 -0.351147  0.635543   \n",
            "136286  136286 -0.168842 -0.095075  1.919783 -0.491029  0.365722  0.219655   \n",
            "...        ...       ...       ...       ...       ...       ...       ...   \n",
            "568625  568625 -0.833437  0.061886 -0.899794  0.904227 -1.002401  0.481454   \n",
            "568626  568626 -0.670459 -0.202896 -0.068129 -0.267328 -0.133660  0.237148   \n",
            "568627  568627 -0.311997 -0.004095  0.137526 -0.035893 -0.042291  0.121098   \n",
            "568628  568628  0.636871 -0.516970 -0.300889 -0.144480  0.131042 -0.294148   \n",
            "568629  568629 -0.795144  0.433236 -0.649140  0.374732 -0.244976 -0.603493   \n",
            "\n",
            "              V7        V8        V9  ...       V20       V21       V22  \\\n",
            "53691   0.305776 -0.174855  0.793670  ... -0.126254 -0.051207  0.453898   \n",
            "51583   0.246622 -0.174487  0.496510  ... -0.349858 -0.229215 -0.429815   \n",
            "223954  0.443611 -0.154635  0.702128  ... -0.328559 -0.243816 -0.851479   \n",
            "281204 -0.075172 -0.127173  0.220935  ... -0.234412 -0.052172  0.540219   \n",
            "136286  0.692719 -0.158177  0.033547  ... -0.244570 -0.143844 -0.445382   \n",
            "...          ...       ...       ...  ...       ...       ...       ...   \n",
            "568625 -0.370393  0.189694 -0.938153  ... -0.751011  0.167503  0.419731   \n",
            "568626 -0.016935 -0.147733  0.483894  ... -0.550260  0.031874  0.388161   \n",
            "568627 -0.070958 -0.019997 -0.122048  ... -0.076417  0.140788  0.536523   \n",
            "568628  0.580568 -0.207723  0.893527  ...  0.288186 -0.060381 -0.195609   \n",
            "568629 -0.347613 -0.340814  0.253971  ... -0.621378  0.534853 -0.291514   \n",
            "\n",
            "             V23       V24       V25       V26       V27       V28    Amount  \n",
            "53691  -0.210345 -0.553373  0.696712  1.985149 -0.271577 -0.081470   9518.50  \n",
            "51583  -0.260728 -1.612462  0.793001  0.127089 -0.204114 -0.060973   7376.02  \n",
            "223954  0.262560 -0.101794 -0.484838  0.437757 -0.312747 -0.213939  20776.23  \n",
            "281204  0.127617  1.024827 -0.887587 -0.276896 -0.176813 -0.093486   3897.12  \n",
            "136286 -0.266835  0.617172  0.290470 -1.623420 -0.444451  0.072342  18419.19  \n",
            "...          ...       ...       ...       ...       ...       ...       ...  \n",
            "568625  1.288249 -0.900861  0.560661 -0.006018  3.308968  0.081564   4394.16  \n",
            "568626 -0.154257 -0.846452 -0.153443  1.961398 -1.528642  1.704306   4653.40  \n",
            "568627 -0.211100 -0.448909  0.540073 -0.755836 -0.487540 -0.268741  23572.85  \n",
            "568628 -0.175488 -0.554643 -0.099669 -1.434931 -0.159269 -0.076251  10160.83  \n",
            "568629  0.157303  0.931030 -0.349423 -1.090974 -1.575113  0.722936  21493.92  \n",
            "\n",
            "[284807 rows x 30 columns]\n"
          ]
        }
      ],
      "source": [
        "print(X)"
      ]
    },
    {
      "cell_type": "code",
      "execution_count": 23,
      "metadata": {
        "colab": {
          "base_uri": "https://localhost:8080/"
        },
        "id": "5IPncHoMXG6k",
        "outputId": "ca573d91-1cc5-49ca-8c79-b83b796a7f21"
      },
      "outputs": [
        {
          "name": "stdout",
          "output_type": "stream",
          "text": [
            "53691     0\n",
            "51583     0\n",
            "223954    0\n",
            "281204    0\n",
            "136286    0\n",
            "         ..\n",
            "568625    1\n",
            "568626    1\n",
            "568627    1\n",
            "568628    1\n",
            "568629    1\n",
            "Name: Class, Length: 284807, dtype: int64\n"
          ]
        }
      ],
      "source": [
        "print(Y)"
      ]
    },
    {
      "cell_type": "markdown",
      "metadata": {
        "id": "X-Ii764PXJDN"
      },
      "source": [
        "Split the data into Training data & Testing Data"
      ]
    },
    {
      "cell_type": "code",
      "execution_count": 24,
      "metadata": {
        "id": "er0Wog9mXJ6h"
      },
      "outputs": [],
      "source": [
        "X_train, X_test, Y_train, Y_test = train_test_split(X, Y, test_size=0.2, stratify=Y, random_state=2)"
      ]
    },
    {
      "cell_type": "code",
      "execution_count": 25,
      "metadata": {
        "colab": {
          "base_uri": "https://localhost:8080/"
        },
        "id": "PP33key3XN4l",
        "outputId": "2420b866-e187-42f4-bded-13bbf745b54c"
      },
      "outputs": [
        {
          "name": "stdout",
          "output_type": "stream",
          "text": [
            "(284807, 30) (227845, 30) (56962, 30)\n"
          ]
        }
      ],
      "source": [
        "print(X.shape, X_train.shape, X_test.shape)"
      ]
    },
    {
      "cell_type": "markdown",
      "metadata": {
        "id": "0cCqKwq3XP9N"
      },
      "source": [
        "# Model Training"
      ]
    },
    {
      "cell_type": "markdown",
      "metadata": {
        "id": "s7E6twFfXTH6"
      },
      "source": [
        "Logistic Regression"
      ]
    },
    {
      "cell_type": "code",
      "execution_count": 26,
      "metadata": {
        "id": "JNfGs6UHXQ9d"
      },
      "outputs": [],
      "source": [
        "model = LogisticRegression()"
      ]
    },
    {
      "cell_type": "code",
      "execution_count": 27,
      "metadata": {
        "colab": {
          "base_uri": "https://localhost:8080/",
          "height": 214
        },
        "id": "cBG0oZ0YXX1N",
        "outputId": "c4f25357-07e9-4c2e-ce3b-705453a4a337"
      },
      "outputs": [
        {
          "data": {
            "text/html": [
              "<style>#sk-container-id-1 {color: black;background-color: white;}#sk-container-id-1 pre{padding: 0;}#sk-container-id-1 div.sk-toggleable {background-color: white;}#sk-container-id-1 label.sk-toggleable__label {cursor: pointer;display: block;width: 100%;margin-bottom: 0;padding: 0.3em;box-sizing: border-box;text-align: center;}#sk-container-id-1 label.sk-toggleable__label-arrow:before {content: \"▸\";float: left;margin-right: 0.25em;color: #696969;}#sk-container-id-1 label.sk-toggleable__label-arrow:hover:before {color: black;}#sk-container-id-1 div.sk-estimator:hover label.sk-toggleable__label-arrow:before {color: black;}#sk-container-id-1 div.sk-toggleable__content {max-height: 0;max-width: 0;overflow: hidden;text-align: left;background-color: #f0f8ff;}#sk-container-id-1 div.sk-toggleable__content pre {margin: 0.2em;color: black;border-radius: 0.25em;background-color: #f0f8ff;}#sk-container-id-1 input.sk-toggleable__control:checked~div.sk-toggleable__content {max-height: 200px;max-width: 100%;overflow: auto;}#sk-container-id-1 input.sk-toggleable__control:checked~label.sk-toggleable__label-arrow:before {content: \"▾\";}#sk-container-id-1 div.sk-estimator input.sk-toggleable__control:checked~label.sk-toggleable__label {background-color: #d4ebff;}#sk-container-id-1 div.sk-label input.sk-toggleable__control:checked~label.sk-toggleable__label {background-color: #d4ebff;}#sk-container-id-1 input.sk-hidden--visually {border: 0;clip: rect(1px 1px 1px 1px);clip: rect(1px, 1px, 1px, 1px);height: 1px;margin: -1px;overflow: hidden;padding: 0;position: absolute;width: 1px;}#sk-container-id-1 div.sk-estimator {font-family: monospace;background-color: #f0f8ff;border: 1px dotted black;border-radius: 0.25em;box-sizing: border-box;margin-bottom: 0.5em;}#sk-container-id-1 div.sk-estimator:hover {background-color: #d4ebff;}#sk-container-id-1 div.sk-parallel-item::after {content: \"\";width: 100%;border-bottom: 1px solid gray;flex-grow: 1;}#sk-container-id-1 div.sk-label:hover label.sk-toggleable__label {background-color: #d4ebff;}#sk-container-id-1 div.sk-serial::before {content: \"\";position: absolute;border-left: 1px solid gray;box-sizing: border-box;top: 0;bottom: 0;left: 50%;z-index: 0;}#sk-container-id-1 div.sk-serial {display: flex;flex-direction: column;align-items: center;background-color: white;padding-right: 0.2em;padding-left: 0.2em;position: relative;}#sk-container-id-1 div.sk-item {position: relative;z-index: 1;}#sk-container-id-1 div.sk-parallel {display: flex;align-items: stretch;justify-content: center;background-color: white;position: relative;}#sk-container-id-1 div.sk-item::before, #sk-container-id-1 div.sk-parallel-item::before {content: \"\";position: absolute;border-left: 1px solid gray;box-sizing: border-box;top: 0;bottom: 0;left: 50%;z-index: -1;}#sk-container-id-1 div.sk-parallel-item {display: flex;flex-direction: column;z-index: 1;position: relative;background-color: white;}#sk-container-id-1 div.sk-parallel-item:first-child::after {align-self: flex-end;width: 50%;}#sk-container-id-1 div.sk-parallel-item:last-child::after {align-self: flex-start;width: 50%;}#sk-container-id-1 div.sk-parallel-item:only-child::after {width: 0;}#sk-container-id-1 div.sk-dashed-wrapped {border: 1px dashed gray;margin: 0 0.4em 0.5em 0.4em;box-sizing: border-box;padding-bottom: 0.4em;background-color: white;}#sk-container-id-1 div.sk-label label {font-family: monospace;font-weight: bold;display: inline-block;line-height: 1.2em;}#sk-container-id-1 div.sk-label-container {text-align: center;}#sk-container-id-1 div.sk-container {/* jupyter's `normalize.less` sets `[hidden] { display: none; }` but bootstrap.min.css set `[hidden] { display: none !important; }` so we also need the `!important` here to be able to override the default hidden behavior on the sphinx rendered scikit-learn.org. See: https://github.com/scikit-learn/scikit-learn/issues/21755 */display: inline-block !important;position: relative;}#sk-container-id-1 div.sk-text-repr-fallback {display: none;}</style><div id=\"sk-container-id-1\" class=\"sk-top-container\"><div class=\"sk-text-repr-fallback\"><pre>LogisticRegression()</pre><b>In a Jupyter environment, please rerun this cell to show the HTML representation or trust the notebook. <br />On GitHub, the HTML representation is unable to render, please try loading this page with nbviewer.org.</b></div><div class=\"sk-container\" hidden><div class=\"sk-item\"><div class=\"sk-estimator sk-toggleable\"><input class=\"sk-toggleable__control sk-hidden--visually\" id=\"sk-estimator-id-1\" type=\"checkbox\" checked><label for=\"sk-estimator-id-1\" class=\"sk-toggleable__label sk-toggleable__label-arrow\">LogisticRegression</label><div class=\"sk-toggleable__content\"><pre>LogisticRegression()</pre></div></div></div></div></div>"
            ],
            "text/plain": [
              "LogisticRegression()"
            ]
          },
          "execution_count": 27,
          "metadata": {},
          "output_type": "execute_result"
        }
      ],
      "source": [
        "# training the Logistic Regression Model with Training Data\n",
        "model.fit(X_train, Y_train)"
      ]
    },
    {
      "cell_type": "markdown",
      "metadata": {
        "id": "-dD-Q3iGXap9"
      },
      "source": [
        "# Model Evaluation"
      ]
    },
    {
      "cell_type": "markdown",
      "metadata": {
        "id": "PmuBzMsVXbmX"
      },
      "source": [
        "Accuracy Score"
      ]
    },
    {
      "cell_type": "code",
      "execution_count": 28,
      "metadata": {
        "id": "p73LM081XdS4"
      },
      "outputs": [],
      "source": [
        "# accuracy on training data\n",
        "X_train_prediction = model.predict(X_train)\n",
        "training_data_accuracy = accuracy_score(X_train_prediction, Y_train)"
      ]
    },
    {
      "cell_type": "code",
      "execution_count": 29,
      "metadata": {
        "colab": {
          "base_uri": "https://localhost:8080/"
        },
        "id": "iNFWTpn9Xg5v",
        "outputId": "50fbbb34-b8de-4900-d95d-bf226a55f0c7"
      },
      "outputs": [
        {
          "name": "stdout",
          "output_type": "stream",
          "text": [
            "Accuracy on Training data :  0.9980951962957274\n"
          ]
        }
      ],
      "source": [
        "print('Accuracy on Training data : ', training_data_accuracy)"
      ]
    },
    {
      "cell_type": "code",
      "execution_count": 30,
      "metadata": {
        "id": "ZoBgCTrmXjfp"
      },
      "outputs": [],
      "source": [
        "# accuracy on test data\n",
        "X_test_prediction = model.predict(X_test)\n",
        "test_data_accuracy = accuracy_score(X_test_prediction, Y_test)"
      ]
    },
    {
      "cell_type": "code",
      "execution_count": 31,
      "metadata": {
        "colab": {
          "base_uri": "https://localhost:8080/"
        },
        "id": "mgHjaLE5XlY3",
        "outputId": "a4abf949-2f4f-4a38-baa0-74a8645a48f0"
      },
      "outputs": [
        {
          "name": "stdout",
          "output_type": "stream",
          "text": [
            "Accuracy score on Test Data :  0.998121554720691\n"
          ]
        }
      ],
      "source": [
        "print('Accuracy score on Test Data : ', test_data_accuracy)"
      ]
    }
  ],
  "metadata": {
    "colab": {
      "provenance": []
    },
    "kernelspec": {
      "display_name": "Python 3",
      "name": "python3"
    },
    "language_info": {
      "codemirror_mode": {
        "name": "ipython",
        "version": 3
      },
      "file_extension": ".py",
      "mimetype": "text/x-python",
      "name": "python",
      "nbconvert_exporter": "python",
      "pygments_lexer": "ipython3",
      "version": "3.11.5"
    }
  },
  "nbformat": 4,
  "nbformat_minor": 0
}
